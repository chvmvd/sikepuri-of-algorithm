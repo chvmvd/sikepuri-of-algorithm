{
 "nbformat": 4,
 "nbformat_minor": 2,
 "metadata": {},
 "cells": [
  {
   "metadata": {},
   "source": [
    "def prime_factorize(n):\n",
    "    i = 2\n",
    "    while n != 1:\n",
    "        if n % i == 0:\n",
    "            n /= i\n",
    "            print(i)\n",
    "        else:\n",
    "            i += 1\n",
    "\n",
    "\n",
    "prime_factorize(24)"
   ],
   "cell_type": "code",
   "outputs": [
    {
     "output_type": "stream",
     "name": "stdout",
     "text": [
      "2\n",
      "2\n",
      "2\n",
      "3\n"
     ]
    }
   ],
   "execution_count": null
  }
 ]
}
