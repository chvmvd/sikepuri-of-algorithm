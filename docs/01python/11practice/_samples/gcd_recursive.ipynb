{
 "nbformat": 4,
 "nbformat_minor": 2,
 "metadata": {},
 "cells": [
  {
   "metadata": {},
   "source": [
    "def gcd(a, b):\n",
    "    if a < b:\n",
    "        a, b = b, a\n",
    "    if b != 0:\n",
    "        return gcd(b, a % b)\n",
    "    else:\n",
    "        return a\n",
    "\n",
    "\n",
    "print(gcd(12, 16))"
   ],
   "cell_type": "code",
   "outputs": [
    {
     "output_type": "stream",
     "name": "stdout",
     "text": [
      "4\n"
     ]
    }
   ],
   "execution_count": null
  }
 ]
}
