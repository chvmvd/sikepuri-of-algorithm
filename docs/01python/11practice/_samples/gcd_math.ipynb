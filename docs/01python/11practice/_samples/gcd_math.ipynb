{
 "nbformat": 4,
 "nbformat_minor": 2,
 "metadata": {},
 "cells": [
  {
   "metadata": {},
   "source": [
    "import math\n",
    "\n",
    "print(math.gcd(12, 16))"
   ],
   "cell_type": "code",
   "outputs": [
    {
     "output_type": "stream",
     "name": "stdout",
     "text": [
      "4\n"
     ]
    }
   ],
   "execution_count": null
  }
 ]
}
