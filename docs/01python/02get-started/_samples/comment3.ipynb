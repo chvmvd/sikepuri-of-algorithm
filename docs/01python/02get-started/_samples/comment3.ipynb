{
  "nbformat": 4,
  "nbformat_minor": 2,
  "metadata": {},
  "cells": [
    {
      "metadata": {},
      "source": [
        "\"\"\"\n",
        "\u8907\u6570\u884c\u306e\u30b3\u30e1\u30f3\u30c8\u3082\u66f8\u3051\u307e\u3059\u3002\n",
        "\"\"\"\n",
        "print(\"Hello World!\")"
      ],
      "cell_type": "code",
      "outputs": [
        {
          "output_type": "stream",
          "name": "stdout",
          "text": [
            "Hello World!\n"
          ]
        }
      ],
      "execution_count": null
    }
  ]
}
