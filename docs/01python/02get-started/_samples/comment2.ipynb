{
  "nbformat": 4,
  "nbformat_minor": 2,
  "metadata": {},
  "cells": [
    {
      "metadata": {},
      "source": [
        "# \u6b21\u306e\u884c\u306f\u3001\u5b9f\u884c\u3055\u308c\u307e\u305b\u3093\u3002\n",
        "# print(\"Hello World!\")\n",
        "print(\"Hello World!\")"
      ],
      "cell_type": "code",
      "outputs": [
        {
          "output_type": "stream",
          "name": "stdout",
          "text": [
            "Hello World!\n"
          ]
        }
      ],
      "execution_count": null
    }
  ]
}
